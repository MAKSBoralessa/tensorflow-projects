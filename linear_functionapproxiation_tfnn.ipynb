{
 "cells": [
  {
   "cell_type": "markdown",
   "metadata": {},
   "source": [
    "### Linear function approximation using Tensorflow NN"
   ]
  },
  {
   "cell_type": "code",
   "execution_count": null,
   "metadata": {},
   "outputs": [],
   "source": [
    "import numpy as np\n",
    "import tensorflow as tf"
   ]
  },
  {
   "cell_type": "code",
   "execution_count": 9,
   "metadata": {},
   "outputs": [],
   "source": [
    "import matplotlib.pyplot as plt"
   ]
  },
  {
   "cell_type": "code",
   "execution_count": 12,
   "metadata": {},
   "outputs": [
    {
     "name": "stdout",
     "output_type": "stream",
     "text": [
      "[[9.10601638]\n",
      " [7.35127312]\n",
      " [7.98628075]\n",
      " ...\n",
      " [7.62624616]\n",
      " [1.43734325]\n",
      " [7.93238267]]\n",
      "[[505300.8190936 ]\n",
      " [417563.65610072]\n",
      " [449314.0376632 ]\n",
      " ...\n",
      " [431312.30782415]\n",
      " [121867.16260844]\n",
      " [446619.13363082]]\n"
     ]
    }
   ],
   "source": [
    "#Generating training data\n",
    "num_rooms = np.random.random((25000,1))*10\n",
    "print(num_rooms)\n",
    "cost = 50000 + 50000 * num_rooms\n",
    "print(cost)"
   ]
  },
  {
   "cell_type": "code",
   "execution_count": 13,
   "metadata": {},
   "outputs": [
    {
     "data": {
      "text/plain": [
       "[<matplotlib.lines.Line2D at 0x2609f297748>]"
      ]
     },
     "execution_count": 13,
     "metadata": {},
     "output_type": "execute_result"
    },
    {
     "data": {
      "image/png": "[encoded data removed]",
      "text/plain": [
       "<Figure size 432x288 with 1 Axes>"
      ]
     },
     "metadata": {
      "needs_background": "light"
     },
     "output_type": "display_data"
    }
   ],
   "source": [
    "plt.plot(num_rooms, cost, 'ro')"
   ]
  },
  {
   "cell_type": "code",
   "execution_count": 16,
   "metadata": {},
   "outputs": [
    {
     "name": "stdout",
     "output_type": "stream",
     "text": [
      "Train on 25000 samples\n",
      "Epoch 1/15\n",
      "25000/25000 [==============================] - 1s 48us/sample - loss: 110316223021.0560\n",
      "Epoch 2/15\n",
      "25000/25000 [==============================] - 1s 26us/sample - loss: 78580535234.5600\n",
      "Epoch 3/15\n",
      "25000/25000 [==============================] - 1s 26us/sample - loss: 12796053640.7680\n",
      "Epoch 4/15\n",
      "25000/25000 [==============================] - 1s 27us/sample - loss: 57713987.4165\n",
      "Epoch 5/15\n",
      "25000/25000 [==============================] - 1s 26us/sample - loss: 983651.6935\n",
      "Epoch 6/15\n",
      "25000/25000 [==============================] - 1s 27us/sample - loss: 867541.0012\n",
      "Epoch 7/15\n",
      "25000/25000 [==============================] - 1s 26us/sample - loss: 738749.2753\n",
      "Epoch 8/15\n",
      "25000/25000 [==============================] - 1s 29us/sample - loss: 599834.5744\n",
      "Epoch 9/15\n",
      "25000/25000 [==============================] - 1s 26us/sample - loss: 458312.7991\n",
      "Epoch 10/15\n",
      "25000/25000 [==============================] - 1s 27us/sample - loss: 324107.4273\n",
      "Epoch 11/15\n",
      "25000/25000 [==============================] - 1s 26us/sample - loss: 207593.5092\n",
      "Epoch 12/15\n",
      "25000/25000 [==============================] - 1s 28us/sample - loss: 117274.6902\n",
      "Epoch 13/15\n",
      "25000/25000 [==============================] - 1s 27us/sample - loss: 56359.2719\n",
      "Epoch 14/15\n",
      "25000/25000 [==============================] - 1s 26us/sample - loss: 22047.0058\n",
      "Epoch 15/15\n",
      "25000/25000 [==============================] - 1s 26us/sample - loss: 6619.2481\n"
     ]
    },
    {
     "data": {
      "text/plain": [
       "<tensorflow.python.keras.callbacks.History at 0x2609f45a848>"
      ]
     },
     "execution_count": 16,
     "metadata": {},
     "output_type": "execute_result"
    }
   ],
   "source": [
    "# Define model\n",
    "model = tf.keras.models.Sequential()\n",
    "model.add(tf.keras.layers.Dense(40, input_dim=1, activation='relu'))\n",
    "model.add(tf.keras.layers.Dense(20, activation='relu'))\n",
    "model.add(tf.keras.layers.Dense(10, activation='relu'))\n",
    "model.add(tf.keras.layers.Dense(1))\n",
    "model.compile(loss='mean_squared_error', optimizer='adam')\n",
    "model.fit(num_rooms, cost, epochs=15, batch_size=50)"
   ]
  },
  {
   "cell_type": "code",
   "execution_count": 18,
   "metadata": {},
   "outputs": [
    {
     "name": "stdout",
     "output_type": "stream",
     "text": [
      "[[550059.8]\n",
      " [299975.6]\n",
      " [400009.3]]\n"
     ]
    }
   ],
   "source": [
    "predictions = model.predict([10, 5, 7])\n",
    "print(predictions) # Approximately 550,000/= , 300,000/= and 400,000/="
   ]
  },
  {
   "cell_type": "code",
   "execution_count": null,
   "metadata": {},
   "outputs": [],
   "source": []
  },
  {
   "cell_type": "code",
   "execution_count": null,
   "metadata": {},
   "outputs": [],
   "source": []
  }
 ],
 "metadata": {
  "kernelspec": {
   "display_name": "Python 3",
   "language": "python",
   "name": "python3"
  },
  "language_info": {
   "codemirror_mode": {
    "name": "ipython",
    "version": 3
   },
   "file_extension": ".py",
   "mimetype": "text/x-python",
   "name": "python",
   "nbconvert_exporter": "python",
   "pygments_lexer": "ipython3",
   "version": "3.7.9"
  }
 },
 "nbformat": 4,
 "nbformat_minor": 4
}
