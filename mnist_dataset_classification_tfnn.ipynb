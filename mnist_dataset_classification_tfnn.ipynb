{
 "cells": [
  {
   "cell_type": "markdown",
   "metadata": {},
   "source": [
    "### MNIST dataset classification using NN TensorFlow"
   ]
  },
  {
   "cell_type": "code",
   "execution_count": 2,
   "metadata": {},
   "outputs": [
    {
     "name": "stdout",
     "output_type": "stream",
     "text": [
      "2.1.0\n"
     ]
    }
   ],
   "source": [
    "#Feel free to add any other module needed\n",
    "import pandas as pd\n",
    "import matplotlib.pyplot as plt\n",
    "import numpy as np\n",
    "import tensorflow as tf\n",
    "print(tf.__version__)"
   ]
  },
  {
   "cell_type": "code",
   "execution_count": 3,
   "metadata": {},
   "outputs": [],
   "source": [
    "mnist = tf.keras.datasets.mnist"
   ]
  },
  {
   "cell_type": "code",
   "execution_count": 4,
   "metadata": {},
   "outputs": [],
   "source": [
    "(training_images, training_labels), (test_images, test_labels) = mnist.load_data()"
   ]
  },
  {
   "cell_type": "code",
   "execution_count": 18,
   "metadata": {},
   "outputs": [
    {
     "name": "stdout",
     "output_type": "stream",
     "text": [
      "Shape of training images set: (60000, 28, 28)\n",
      "Shape of training labels set: (60000,)\n",
      "Shape of test images set: (10000, 28, 28)\n",
      "Shape of test labels set: (10000,)\n"
     ]
    }
   ],
   "source": [
    "print(\"Shape of training images set: {}\".format(training_images.shape))\n",
    "print(\"Shape of training labels set: {}\".format(training_labels.shape))\n",
    "print(\"Shape of test images set: {}\".format(test_images.shape))\n",
    "print(\"Shape of test labels set: {}\".format(test_labels.shape))"
   ]
  },
  {
   "cell_type": "code",
   "execution_count": 12,
   "metadata": {},
   "outputs": [
    {
     "data": {
      "text/plain": [
       "<matplotlib.image.AxesImage at 0x245d702b708>"
      ]
     },
     "execution_count": 12,
     "metadata": {},
     "output_type": "execute_result"
    },
    {
     "data": {
      "image/png": "[encoded data removed]",
      "text/plain": [
       "<Figure size 432x288 with 1 Axes>"
      ]
     },
     "metadata": {
      "needs_background": "light"
     },
     "output_type": "display_data"
    }
   ],
   "source": [
    "### Visualize samples of  images using matplotlib ###\n",
    "\n",
    "#display(training_images)\n",
    "%matplotlib inline\n",
    "plt.imshow(training_images[10])"
   ]
  },
  {
   "cell_type": "code",
   "execution_count": 34,
   "metadata": {},
   "outputs": [
    {
     "name": "stdout",
     "output_type": "stream",
     "text": [
      "Shape of training images set: (60000, 28, 28, 1)\n",
      "Shape of test images set: (10000, 28, 28, 1)\n",
      "Training images type:float32 \n",
      "Test images type: float32 \n",
      "Test images type: float32 \n"
     ]
    }
   ],
   "source": [
    "#Grouping all data in 4D ARRAY \n",
    "training_images = training_images.reshape(training_images.shape[0], 28, 28, 1)\n",
    "print(\"Shape of training images set: {}\".format(training_images.shape))\n",
    "\n",
    "test_images = test_images.reshape(test_images.shape[0], 28, 28, 1)\n",
    "print(\"Shape of test images set: {}\".format(test_images.shape))\n",
    "\n",
    "print(\"Training images type:{} \".format(training_images.dtype))\n",
    "print(\"Test images type: {} \".format(test_images.dtype))\n",
    "\n",
    "test_images = test_images.astype('float32')\n",
    "print(\"Test images type: {} \".format(test_images.dtype))"
   ]
  },
  {
   "cell_type": "code",
   "execution_count": 39,
   "metadata": {},
   "outputs": [
    {
     "data": {
      "text/plain": [
       "<matplotlib.image.AxesImage at 0x245d534bb08>"
      ]
     },
     "execution_count": 39,
     "metadata": {},
     "output_type": "execute_result"
    },
    {
     "data": {
      "image/png": "[encoded data removed]",
      "text/plain": [
       "<Figure size 432x288 with 1 Axes>"
      ]
     },
     "metadata": {
      "needs_background": "light"
     },
     "output_type": "display_data"
    }
   ],
   "source": [
    "### Normalize images ###\n",
    "training_images = tf.keras.utils.normalize(training_images, axis=1)\n",
    "test_images = tf.keras.utils.normalize(test_images, axis=1)\n",
    "\n",
    "plt.imshow(training_images[10])\n",
    "plt.imshow(test_images[10])"
   ]
  },
  {
   "cell_type": "code",
   "execution_count": 41,
   "metadata": {},
   "outputs": [
    {
     "name": "stdout",
     "output_type": "stream",
     "text": [
      "Train on 60000 samples\n",
      "Epoch 1/3\n",
      "60000/60000 [==============================] - 8s 132us/sample - loss: 0.2641 - accuracy: 0.9217\n",
      "Epoch 2/3\n",
      "60000/60000 [==============================] - 5s 87us/sample - loss: 0.1089 - accuracy: 0.9666\n",
      "Epoch 3/3\n",
      "60000/60000 [==============================] - 5s 82us/sample - loss: 0.0750 - accuracy: 0.9765\n"
     ]
    },
    {
     "data": {
      "text/plain": [
       "<tensorflow.python.keras.callbacks.History at 0x245d5529c48>"
      ]
     },
     "execution_count": 41,
     "metadata": {},
     "output_type": "execute_result"
    }
   ],
   "source": [
    "### Create , compile and run model ###\n",
    "model = tf.keras.models.Sequential()\n",
    "model.add(tf.keras.layers.Flatten())\n",
    "model.add(tf.keras.layers.Dense(128, activation=tf.nn.relu))\n",
    "model.add(tf.keras.layers.Dense(128, activation=tf.nn.relu))\n",
    "model.add(tf.keras.layers.Dense(10, activation=tf.nn.softmax))\n",
    "\n",
    "model.compile(optimizer='adam',\n",
    "              loss='sparse_categorical_crossentropy',\n",
    "              metrics=['accuracy'])\n",
    "\n",
    "model.fit(training_images, training_labels, epochs=3)"
   ]
  },
  {
   "cell_type": "code",
   "execution_count": 45,
   "metadata": {},
   "outputs": [
    {
     "name": "stdout",
     "output_type": "stream",
     "text": [
      "10000/10000 [==============================] - 0s 40us/sample - loss: 0.0954 - accuracy: 0.9709\n",
      "Validation loss: 0.09544917915351689\n",
      "Validation accuracy: 0.9708999991416931\n"
     ]
    }
   ],
   "source": [
    "### Evaluate model ###\n",
    "val_loss, val_accuracy = model.evaluate(test_images, test_labels)\n",
    "print(\"Validation loss: {}\".format(val_loss))\n",
    "print(\"Validation accuracy: {}\".format(val_accuracy))"
   ]
  },
  {
   "cell_type": "code",
   "execution_count": 47,
   "metadata": {},
   "outputs": [
    {
     "name": "stdout",
     "output_type": "stream",
     "text": [
      "INFO:tensorflow:Assets written to: mnist_nn.model\\assets\n"
     ]
    }
   ],
   "source": [
    "### Do prediction on a single sample from test set ###\n",
    "model.save('mnist_nn.model')\n",
    "number_reader = tf.keras.models.load_model('mnist_nn.model')\n",
    "prediction = number_reader.predict(test_images)"
   ]
  },
  {
   "cell_type": "code",
   "execution_count": 48,
   "metadata": {},
   "outputs": [
    {
     "name": "stdout",
     "output_type": "stream",
     "text": [
      "[4.8469087e-09 2.1479902e-09 1.9899832e-07 2.7437202e-06 8.1017276e-10\n",
      " 1.9784034e-08 3.2546604e-14 9.9999559e-01 1.5548256e-08 1.4419777e-06]\n"
     ]
    }
   ],
   "source": [
    "print(prediction[0])"
   ]
  },
  {
   "cell_type": "code",
   "execution_count": 50,
   "metadata": {},
   "outputs": [
    {
     "name": "stdout",
     "output_type": "stream",
     "text": [
      "7\n"
     ]
    }
   ],
   "source": [
    "print(np.argmax(prediction[0]))"
   ]
  },
  {
   "cell_type": "code",
   "execution_count": 51,
   "metadata": {},
   "outputs": [
    {
     "data": {
      "text/plain": [
       "<matplotlib.image.AxesImage at 0x245d823d108>"
      ]
     },
     "execution_count": 51,
     "metadata": {},
     "output_type": "execute_result"
    },
    {
     "data": {
      "image/png": "[encoded data removed]",
      "text/plain": [
       "<Figure size 432x288 with 1 Axes>"
      ]
     },
     "metadata": {
      "needs_background": "light"
     },
     "output_type": "display_data"
    }
   ],
   "source": [
    "plt.imshow(test_images[0])"
   ]
  },
  {
   "cell_type": "code",
   "execution_count": null,
   "metadata": {},
   "outputs": [],
   "source": []
  },
  {
   "cell_type": "code",
   "execution_count": null,
   "metadata": {},
   "outputs": [],
   "source": []
  }
 ],
 "metadata": {
  "kernelspec": {
   "display_name": "Python 3",
   "language": "python",
   "name": "python3"
  },
  "language_info": {
   "codemirror_mode": {
    "name": "ipython",
    "version": 3
   },
   "file_extension": ".py",
   "mimetype": "text/x-python",
   "name": "python",
   "nbconvert_exporter": "python",
   "pygments_lexer": "ipython3",
   "version": "3.7.9"
  }
 },
 "nbformat": 4,
 "nbformat_minor": 4
}
