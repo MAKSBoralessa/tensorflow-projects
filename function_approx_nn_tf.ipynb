{
 "cells": [
  {
   "cell_type": "code",
   "execution_count": 1,
   "metadata": {},
   "outputs": [],
   "source": [
    "# Imports\n",
    "import numpy as np\n",
    "from tensorflow.keras.models import Sequential\n",
    "from tensorflow.keras.layers import Dense"
   ]
  },
  {
   "cell_type": "code",
   "execution_count": 2,
   "metadata": {},
   "outputs": [],
   "source": [
    "# Load training data\n",
    "x = -50 + np.random.random((25000,1))*100\n",
    "y = x**2"
   ]
  },
  {
   "cell_type": "code",
   "execution_count": 3,
   "metadata": {},
   "outputs": [
    {
     "data": {
      "text/plain": [
       "[<matplotlib.lines.Line2D at 0x216e2e65388>]"
      ]
     },
     "execution_count": 3,
     "metadata": {},
     "output_type": "execute_result"
    },
    {
     "data": {
      "image/png": "[encoded data removed]",
      "text/plain": [
       "<Figure size 432x288 with 1 Axes>"
      ]
     },
     "metadata": {
      "needs_background": "light"
     },
     "output_type": "display_data"
    }
   ],
   "source": [
    "import matplotlib.pyplot as plt\n",
    "plt.plot(x, y, 'ro')"
   ]
  },
  {
   "cell_type": "code",
   "execution_count": 4,
   "metadata": {},
   "outputs": [
    {
     "name": "stdout",
     "output_type": "stream",
     "text": [
      "Train on 25000 samples\n",
      "Epoch 1/15\n",
      "25000/25000 [==============================] - 3s 117us/sample - loss: 571212.1455\n",
      "Epoch 2/15\n",
      "25000/25000 [==============================] - 1s 32us/sample - loss: 78864.1392\n",
      "Epoch 3/15\n",
      "25000/25000 [==============================] - 1s 26us/sample - loss: 72184.4599\n",
      "Epoch 4/15\n",
      "25000/25000 [==============================] - 1s 26us/sample - loss: 60329.7515\n",
      "Epoch 5/15\n",
      "25000/25000 [==============================] - 1s 26us/sample - loss: 36910.6294\n",
      "Epoch 6/15\n",
      "25000/25000 [==============================] - 1s 27us/sample - loss: 14917.5852\n",
      "Epoch 7/15\n",
      "25000/25000 [==============================] - 1s 27us/sample - loss: 5051.5360\n",
      "Epoch 8/15\n",
      "25000/25000 [==============================] - 1s 26us/sample - loss: 2024.9181\n",
      "Epoch 9/15\n",
      "25000/25000 [==============================] - 1s 26us/sample - loss: 959.2767\n",
      "Epoch 10/15\n",
      "25000/25000 [==============================] - 1s 27us/sample - loss: 555.3603\n",
      "Epoch 11/15\n",
      "25000/25000 [==============================] - 1s 27us/sample - loss: 348.9903\n",
      "Epoch 12/15\n",
      "25000/25000 [==============================] - 1s 30us/sample - loss: 238.7864\n",
      "Epoch 13/15\n",
      "25000/25000 [==============================] - 1s 27us/sample - loss: 155.8856\n",
      "Epoch 14/15\n",
      "25000/25000 [==============================] - 1s 26us/sample - loss: 120.1804\n",
      "Epoch 15/15\n",
      "25000/25000 [==============================] - 1s 27us/sample - loss: 84.8273\n"
     ]
    },
    {
     "data": {
      "text/plain": [
       "<tensorflow.python.keras.callbacks.History at 0x216e416ffc8>"
      ]
     },
     "execution_count": 4,
     "metadata": {},
     "output_type": "execute_result"
    }
   ],
   "source": [
    "# Define model\n",
    "model = Sequential()\n",
    "model.add(Dense(40, input_dim=1, activation='relu'))\n",
    "model.add(Dense(20, activation='relu'))\n",
    "model.add(Dense(10, activation='relu'))\n",
    "model.add(Dense(1))\n",
    "model.compile(loss='mean_squared_error', optimizer='adam')\n",
    "model.fit(x, y, epochs=15, batch_size=50)"
   ]
  },
  {
   "cell_type": "code",
   "execution_count": 5,
   "metadata": {},
   "outputs": [
    {
     "name": "stdout",
     "output_type": "stream",
     "text": [
      "[[  101.73765 ]\n",
      " [   20.854744]\n",
      " [10774.016   ]\n",
      " [  173.8088  ]]\n"
     ]
    }
   ],
   "source": [
    "predictions = model.predict([10, 5, 200, 13])\n",
    "print(predictions) # Approximately 100, 25, 40000, 169"
   ]
  },
  {
   "cell_type": "code",
   "execution_count": null,
   "metadata": {},
   "outputs": [],
   "source": []
  }
 ],
 "metadata": {
  "kernelspec": {
   "display_name": "Python 3",
   "language": "python",
   "name": "python3"
  },
  "language_info": {
   "codemirror_mode": {
    "name": "ipython",
    "version": 3
   },
   "file_extension": ".py",
   "mimetype": "text/x-python",
   "name": "python",
   "nbconvert_exporter": "python",
   "pygments_lexer": "ipython3",
   "version": "3.7.9"
  }
 },
 "nbformat": 4,
 "nbformat_minor": 4
}
